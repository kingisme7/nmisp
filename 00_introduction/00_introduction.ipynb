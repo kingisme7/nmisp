{
 "cells": [
  {
   "cell_type": "markdown",
   "metadata": {},
   "source": [
    "# 도입<br>Introduction"
   ]
  },
  {
   "cell_type": "markdown",
   "metadata": {
    "slideshow": {
     "slide_type": "slide"
    }
   },
   "source": [
    "##  왜 공학 문제 해결에 컴퓨터를 사용하려고 하는가?<br>Why do we want to use computers to solve engineering problems?"
   ]
  },
  {
   "cell_type": "markdown",
   "metadata": {
    "slideshow": {
     "slide_type": "slide"
    }
   },
   "source": [
    "* 많은 공학 문제는 종이와 연필로 해결할 수 있음.<br>We can solve many engineering problems with only a sheet of paper and a pencil.\n",
    "* 그러나 공학 문제는 때때로 복잡하여 많은 양의 계산을 필요로 함<br>However, occasionally engineering problems are complicated so that it requires a great deal of computation.\n",
    "* 오늘날의 (디지털) 컴퓨터는 대량의 계산을 64bit 또는 그 이상의 [정밀도](https://ko.wikipedia.org/wiki/%EB%B6%80%EB%8F%99%EC%86%8C%EC%88%98%EC%A0%90)로 처리할 수 있음<br>Modern (digital) computers can process relatively larger quantitiy of computations with [precisions](https://en.wikipedia.org/wiki/Floating-point_arithmetic) of 64bit or higher."
   ]
  },
  {
   "cell_type": "markdown",
   "metadata": {},
   "source": [
    "## 파이썬 프로그래밍 언어 소개<br>Brief introduction to Python Programming Language"
   ]
  },
  {
   "cell_type": "markdown",
   "metadata": {},
   "source": [
    "* 여기서는 [**파이썬**](https://www.python.org/) 이라는 컴퓨터 프로그래밍 언어를 사용할 것임.<br>Here, we will use [**Python**](https://www.python.org/) programming language.\n",
    "* 파이썬은 [**귀도 반 로섬**](https://ko.wikipedia.org/wiki/%EA%B7%80%EB%8F%84_%EB%B0%98_%EB%A1%9C%EC%84%AC) 이라는 네덜란드 프로그래머가 1989년 만들었음.<br>[**Guido van Rossum**](https://en.wikipedia.org/wiki/Guido_van_Rossum), a Programmer of the Netherland created python in 1989.\n",
    "* [파이썬](https://ko.wikipedia.org/wiki/%ED%8C%8C%EC%9D%B4%EC%8D%AC)은 대화형 프로그래밍 언어로, 배우기 쉽고, 무료이며, 그 기능을 확장시켜 주는 **모듈**이라는 프로그램이 많이 갖추어져 있음.<br>[Python](https://en.wikipedia.org/wiki/Python_%28programming_language%29) is an interpreted high level language, easy to learn, free, and surrounded by many **modules** extending its functionalities.\n",
    "* 2010년대 후반, 파이썬은 과학기술 계산, 데이터 분석, 심층 신경망 전산 학습 등의 영역에서도 널리 사용되고 있음.<br>In late 2010s, python is widely used in areas such as, but not limited to, scientific computation, data analytics and deep neural network machine learning."
   ]
  },
  {
   "cell_type": "markdown",
   "metadata": {},
   "source": [
    "## 아나콘다 배포판<br>Anaconda Distribution"
   ]
  },
  {
   "cell_type": "markdown",
   "metadata": {},
   "source": [
    "* 파이썬 언어로 프로그램을 개발하기 위해 필요한 소프트웨어는 여러 경로를 통해 배포되고 있음<br>We can obtain the software to develop programs in python through various distribution channels.\n",
    "* 그 가운데 여기서는 파이썬 3의 [아나콘다 배포판](https://www.anaconda.com/download/)을 추천함.<br>Among them, [Anaconda Distribution](https://www.anaconda.com/download/) with Python 3 is preferred here.\n",
    "* 해당 배포판은 과학기술계산용 *[사이파이 계열](http://www.hanbit.co.kr/store/books/look.php?p_code=B8736321868) 모듈*을 포함하고 있으며, 확장 기능 관리에 `conda` 라는 *패키지 관리* 프로그램을 이용할 수 있음.<br>The distribution includes [*SciPy Stack*](https://www.scipy.org/index.html) for scientific computation and `conda` package management software."
   ]
  },
  {
   "cell_type": "markdown",
   "metadata": {},
   "source": [
    "## `matplotlib` 그래프 소개<br>Introducing Plotting with `matplotlib`"
   ]
  },
  {
   "cell_type": "markdown",
   "metadata": {},
   "source": [
    "아래는 사이파이 계열 모듈 `matplotlib` 로 사인 그래프를 그리는 한 예를 보여 줌.<br>\n",
    "Following is an example plotting sine graph using `matplotlib` of SciPy stack."
   ]
  },
  {
   "cell_type": "code",
   "execution_count": 3,
   "metadata": {},
   "outputs": [],
   "source": [
    "# Import NumPy and matplotlib of SciPy Stack\n",
    "import pylab as py"
   ]
  },
  {
   "cell_type": "code",
   "execution_count": 4,
   "metadata": {
    "scrolled": true
   },
   "outputs": [
    {
     "data": {
      "image/png": "[encoded data removed]",
      "text/plain": [
       "<Figure size 432x288 with 1 Axes>"
      ]
     },
     "metadata": {},
     "output_type": "display_data"
    }
   ],
   "source": [
    "# 0, 1, 2, ..., 360\n",
    "theta_deg_array = py.arange(0, 360 + 0.5, 1)\n",
    "theta_rad_array = py.deg2rad(theta_deg_array)\n",
    "\n",
    "# Sine value of each angle\n",
    "sin_theta_array = py.sin(theta_rad_array)\n",
    "\n",
    "# Plot sine graph\n",
    "py.plot(theta_deg_array, sin_theta_array, label=r'$sin\\theta$')\n",
    "\n",
    "# Add grid\n",
    "py.grid(True)\n",
    "\n",
    "# Add axis labels\n",
    "py.xlabel(r'$\\theta(rad)$')\n",
    "py.ylabel(r'sin$\\theta$')\n",
    "\n",
    "# Add legend table at an optimal location\n",
    "py.legend(loc=0)\n",
    "\n",
    "# Present plot\n",
    "py.show()\n"
   ]
  },
  {
   "cell_type": "markdown",
   "metadata": {},
   "source": [
    "도전 과제 1: $x$ 축 모눈 눈금을 45도 간격으로 설정 해 보시오.<br>\n",
    "Try this 1: Set $x$ axis grid interval to 45 degrees."
   ]
  },
  {
   "cell_type": "markdown",
   "metadata": {},
   "source": [
    "힌트 : `help(py.xticks)`<br>Hint: `help(py.xticks)`"
   ]
  },
  {
   "cell_type": "markdown",
   "metadata": {},
   "source": [
    "도전 과제 2: $cos\\theta^\\circ$ 그래프를 그려 보시오.<br>\n",
    "Try this 2: Plot a $cos\\theta^\\circ$ graph."
   ]
  },
  {
   "cell_type": "markdown",
   "metadata": {},
   "source": [
    "힌트 : `help(py.cos)`<br>Hint: `help(py.cos)`"
   ]
  },
  {
   "cell_type": "markdown",
   "metadata": {},
   "source": [
    "도전 과제 3: $(x-1)\\times(x-2)$ 그래프를 $0 \\le x \\le 4$ 범위에서 그려 보시오.<br>\n",
    "Try this 3: Plot $(x-1)\\times(x-2)$ over $0 \\le x \\le 4$ interval."
   ]
  },
  {
   "cell_type": "code",
   "execution_count": 1,
   "metadata": {},
   "outputs": [
    {
     "ename": "SyntaxError",
     "evalue": "invalid syntax (<ipython-input-1-799cb9c443d8>, line 2)",
     "output_type": "error",
     "traceback": [
      "\u001b[1;36m  File \u001b[1;32m\"<ipython-input-1-799cb9c443d8>\"\u001b[1;36m, line \u001b[1;32m2\u001b[0m\n\u001b[1;33m    x_array = x**2-5x+4\u001b[0m\n\u001b[1;37m                    ^\u001b[0m\n\u001b[1;31mSyntaxError\u001b[0m\u001b[1;31m:\u001b[0m invalid syntax\n"
     ]
    }
   ],
   "source": [
    "import pylab as py\n",
    "x_array = x**2-5x+4\n",
    "y_array =-10<=x<= 10\n",
    "py.plot(x_array,y_array)\n",
    "py.grid(true)"
   ]
  },
  {
   "cell_type": "code",
   "execution_count": 6,
   "metadata": {},
   "outputs": [
    {
     "name": "stdout",
     "output_type": "stream",
     "text": [
      "[0.         0.01745329 0.03490659 0.05235988 0.06981317 0.08726646\n",
      " 0.10471976 0.12217305 0.13962634 0.15707963 0.17453293 0.19198622\n",
      " 0.20943951 0.2268928  0.2443461  0.26179939 0.27925268 0.29670597\n",
      " 0.31415927 0.33161256 0.34906585 0.36651914 0.38397244 0.40142573\n",
      " 0.41887902 0.43633231 0.45378561 0.4712389  0.48869219 0.50614548\n",
      " 0.52359878 0.54105207 0.55850536 0.57595865 0.59341195 0.61086524\n",
      " 0.62831853 0.64577182 0.66322512 0.68067841 0.6981317  0.71558499\n",
      " 0.73303829 0.75049158 0.76794487 0.78539816 0.80285146 0.82030475\n",
      " 0.83775804 0.85521133 0.87266463 0.89011792 0.90757121 0.9250245\n",
      " 0.9424778  0.95993109 0.97738438 0.99483767 1.01229097 1.02974426\n",
      " 1.04719755 1.06465084 1.08210414 1.09955743 1.11701072 1.13446401\n",
      " 1.15191731 1.1693706  1.18682389 1.20427718 1.22173048 1.23918377\n",
      " 1.25663706 1.27409035 1.29154365 1.30899694 1.32645023 1.34390352\n",
      " 1.36135682 1.37881011 1.3962634  1.41371669 1.43116999 1.44862328\n",
      " 1.46607657 1.48352986 1.50098316 1.51843645 1.53588974 1.55334303\n",
      " 1.57079633 1.58824962 1.60570291 1.6231562  1.6406095  1.65806279\n",
      " 1.67551608 1.69296937 1.71042267 1.72787596 1.74532925 1.76278254\n",
      " 1.78023584 1.79768913 1.81514242 1.83259571 1.85004901 1.8675023\n",
      " 1.88495559 1.90240888 1.91986218 1.93731547 1.95476876 1.97222205\n",
      " 1.98967535 2.00712864 2.02458193 2.04203522 2.05948852 2.07694181\n",
      " 2.0943951  2.11184839 2.12930169 2.14675498 2.16420827 2.18166156\n",
      " 2.19911486 2.21656815 2.23402144 2.25147474 2.26892803 2.28638132\n",
      " 2.30383461 2.32128791 2.3387412  2.35619449 2.37364778 2.39110108\n",
      " 2.40855437 2.42600766 2.44346095 2.46091425 2.47836754 2.49582083\n",
      " 2.51327412 2.53072742 2.54818071 2.565634   2.58308729 2.60054059\n",
      " 2.61799388 2.63544717 2.65290046 2.67035376 2.68780705 2.70526034\n",
      " 2.72271363 2.74016693 2.75762022 2.77507351 2.7925268  2.8099801\n",
      " 2.82743339 2.84488668 2.86233997 2.87979327 2.89724656 2.91469985\n",
      " 2.93215314 2.94960644 2.96705973 2.98451302 3.00196631 3.01941961\n",
      " 3.0368729  3.05432619 3.07177948 3.08923278 3.10668607 3.12413936\n",
      " 3.14159265 3.15904595 3.17649924 3.19395253 3.21140582 3.22885912\n",
      " 3.24631241 3.2637657  3.28121899 3.29867229 3.31612558 3.33357887\n",
      " 3.35103216 3.36848546 3.38593875 3.40339204 3.42084533 3.43829863\n",
      " 3.45575192 3.47320521 3.4906585  3.5081118  3.52556509 3.54301838\n",
      " 3.56047167 3.57792497 3.59537826 3.61283155 3.63028484 3.64773814\n",
      " 3.66519143 3.68264472 3.70009801 3.71755131 3.7350046  3.75245789\n",
      " 3.76991118 3.78736448 3.80481777 3.82227106 3.83972435 3.85717765\n",
      " 3.87463094 3.89208423 3.90953752 3.92699082 3.94444411 3.9618974\n",
      " 3.97935069 3.99680399 4.01425728 4.03171057 4.04916386 4.06661716\n",
      " 4.08407045 4.10152374 4.11897703 4.13643033 4.15388362 4.17133691\n",
      " 4.1887902  4.2062435  4.22369679 4.24115008 4.25860337 4.27605667\n",
      " 4.29350996 4.31096325 4.32841654 4.34586984 4.36332313 4.38077642\n",
      " 4.39822972 4.41568301 4.4331363  4.45058959 4.46804289 4.48549618\n",
      " 4.50294947 4.52040276 4.53785606 4.55530935 4.57276264 4.59021593\n",
      " 4.60766923 4.62512252 4.64257581 4.6600291  4.6774824  4.69493569\n",
      " 4.71238898 4.72984227 4.74729557 4.76474886 4.78220215 4.79965544\n",
      " 4.81710874 4.83456203 4.85201532 4.86946861 4.88692191 4.9043752\n",
      " 4.92182849 4.93928178 4.95673508 4.97418837 4.99164166 5.00909495\n",
      " 5.02654825 5.04400154 5.06145483 5.07890812 5.09636142 5.11381471\n",
      " 5.131268   5.14872129 5.16617459 5.18362788 5.20108117 5.21853446\n",
      " 5.23598776 5.25344105 5.27089434 5.28834763 5.30580093 5.32325422\n",
      " 5.34070751 5.3581608  5.3756141  5.39306739 5.41052068 5.42797397\n",
      " 5.44542727 5.46288056 5.48033385 5.49778714 5.51524044 5.53269373\n",
      " 5.55014702 5.56760031 5.58505361 5.6025069  5.61996019 5.63741348\n",
      " 5.65486678 5.67232007 5.68977336 5.70722665 5.72467995 5.74213324\n",
      " 5.75958653 5.77703982 5.79449312 5.81194641 5.8293997  5.84685299\n",
      " 5.86430629 5.88175958 5.89921287 5.91666616 5.93411946 5.95157275\n",
      " 5.96902604 5.98647933 6.00393263 6.02138592 6.03883921 6.0562925\n",
      " 6.0737458  6.09119909 6.10865238 6.12610567 6.14355897 6.16101226\n",
      " 6.17846555 6.19591884 6.21337214 6.23082543 6.24827872 6.26573201\n",
      " 6.28318531]\n"
     ]
    }
   ],
   "source": [
    "# Import NumPy and matplotlib of SciPy Stack\n",
    "import pylab as py\n",
    "theta_deg_array = py.arange(0, 360 + 0.5, 1)\n",
    "theta_rad_array = py.deg2rad(theta_deg_array)\n",
    "print(theta_rad_array)"
   ]
  },
  {
   "cell_type": "code",
   "execution_count": 8,
   "metadata": {},
   "outputs": [],
   "source": [
    "import math"
   ]
  },
  {
   "cell_type": "code",
   "execution_count": 10,
   "metadata": {},
   "outputs": [
    {
     "name": "stdout",
     "output_type": "stream",
     "text": [
      "Help on built-in module math:\n",
      "\n",
      "NAME\n",
      "    math\n",
      "\n",
      "DESCRIPTION\n",
      "    This module is always available.  It provides access to the\n",
      "    mathematical functions defined by the C standard.\n",
      "\n",
      "FUNCTIONS\n",
      "    acos(...)\n",
      "        acos(x)\n",
      "        \n",
      "        Return the arc cosine (measured in radians) of x.\n",
      "    \n",
      "    acosh(...)\n",
      "        acosh(x)\n",
      "        \n",
      "        Return the inverse hyperbolic cosine of x.\n",
      "    \n",
      "    asin(...)\n",
      "        asin(x)\n",
      "        \n",
      "        Return the arc sine (measured in radians) of x.\n",
      "    \n",
      "    asinh(...)\n",
      "        asinh(x)\n",
      "        \n",
      "        Return the inverse hyperbolic sine of x.\n",
      "    \n",
      "    atan(...)\n",
      "        atan(x)\n",
      "        \n",
      "        Return the arc tangent (measured in radians) of x.\n",
      "    \n",
      "    atan2(...)\n",
      "        atan2(y, x)\n",
      "        \n",
      "        Return the arc tangent (measured in radians) of y/x.\n",
      "        Unlike atan(y/x), the signs of both x and y are considered.\n",
      "    \n",
      "    atanh(...)\n",
      "        atanh(x)\n",
      "        \n",
      "        Return the inverse hyperbolic tangent of x.\n",
      "    \n",
      "    ceil(...)\n",
      "        ceil(x)\n",
      "        \n",
      "        Return the ceiling of x as an Integral.\n",
      "        This is the smallest integer >= x.\n",
      "    \n",
      "    copysign(...)\n",
      "        copysign(x, y)\n",
      "        \n",
      "        Return a float with the magnitude (absolute value) of x but the sign \n",
      "        of y. On platforms that support signed zeros, copysign(1.0, -0.0) \n",
      "        returns -1.0.\n",
      "    \n",
      "    cos(...)\n",
      "        cos(x)\n",
      "        \n",
      "        Return the cosine of x (measured in radians).\n",
      "    \n",
      "    cosh(...)\n",
      "        cosh(x)\n",
      "        \n",
      "        Return the hyperbolic cosine of x.\n",
      "    \n",
      "    degrees(...)\n",
      "        degrees(x)\n",
      "        \n",
      "        Convert angle x from radians to degrees.\n",
      "    \n",
      "    erf(...)\n",
      "        erf(x)\n",
      "        \n",
      "        Error function at x.\n",
      "    \n",
      "    erfc(...)\n",
      "        erfc(x)\n",
      "        \n",
      "        Complementary error function at x.\n",
      "    \n",
      "    exp(...)\n",
      "        exp(x)\n",
      "        \n",
      "        Return e raised to the power of x.\n",
      "    \n",
      "    expm1(...)\n",
      "        expm1(x)\n",
      "        \n",
      "        Return exp(x)-1.\n",
      "        This function avoids the loss of precision involved in the direct evaluation of exp(x)-1 for small x.\n",
      "    \n",
      "    fabs(...)\n",
      "        fabs(x)\n",
      "        \n",
      "        Return the absolute value of the float x.\n",
      "    \n",
      "    factorial(...)\n",
      "        factorial(x) -> Integral\n",
      "        \n",
      "        Find x!. Raise a ValueError if x is negative or non-integral.\n",
      "    \n",
      "    floor(...)\n",
      "        floor(x)\n",
      "        \n",
      "        Return the floor of x as an Integral.\n",
      "        This is the largest integer <= x.\n",
      "    \n",
      "    fmod(...)\n",
      "        fmod(x, y)\n",
      "        \n",
      "        Return fmod(x, y), according to platform C.  x % y may differ.\n",
      "    \n",
      "    frexp(...)\n",
      "        frexp(x)\n",
      "        \n",
      "        Return the mantissa and exponent of x, as pair (m, e).\n",
      "        m is a float and e is an int, such that x = m * 2.**e.\n",
      "        If x is 0, m and e are both 0.  Else 0.5 <= abs(m) < 1.0.\n",
      "    \n",
      "    fsum(...)\n",
      "        fsum(iterable)\n",
      "        \n",
      "        Return an accurate floating point sum of values in the iterable.\n",
      "        Assumes IEEE-754 floating point arithmetic.\n",
      "    \n",
      "    gamma(...)\n",
      "        gamma(x)\n",
      "        \n",
      "        Gamma function at x.\n",
      "    \n",
      "    gcd(...)\n",
      "        gcd(x, y) -> int\n",
      "        greatest common divisor of x and y\n",
      "    \n",
      "    hypot(...)\n",
      "        hypot(x, y)\n",
      "        \n",
      "        Return the Euclidean distance, sqrt(x*x + y*y).\n",
      "    \n",
      "    isclose(...)\n",
      "        isclose(a, b, *, rel_tol=1e-09, abs_tol=0.0) -> bool\n",
      "        \n",
      "        Determine whether two floating point numbers are close in value.\n",
      "        \n",
      "           rel_tol\n",
      "               maximum difference for being considered \"close\", relative to the\n",
      "               magnitude of the input values\n",
      "            abs_tol\n",
      "               maximum difference for being considered \"close\", regardless of the\n",
      "               magnitude of the input values\n",
      "        \n",
      "        Return True if a is close in value to b, and False otherwise.\n",
      "        \n",
      "        For the values to be considered close, the difference between them\n",
      "        must be smaller than at least one of the tolerances.\n",
      "        \n",
      "        -inf, inf and NaN behave similarly to the IEEE 754 Standard.  That\n",
      "        is, NaN is not close to anything, even itself.  inf and -inf are\n",
      "        only close to themselves.\n",
      "    \n",
      "    isfinite(...)\n",
      "        isfinite(x) -> bool\n",
      "        \n",
      "        Return True if x is neither an infinity nor a NaN, and False otherwise.\n",
      "    \n",
      "    isinf(...)\n",
      "        isinf(x) -> bool\n",
      "        \n",
      "        Return True if x is a positive or negative infinity, and False otherwise.\n",
      "    \n",
      "    isnan(...)\n",
      "        isnan(x) -> bool\n",
      "        \n",
      "        Return True if x is a NaN (not a number), and False otherwise.\n",
      "    \n",
      "    ldexp(...)\n",
      "        ldexp(x, i)\n",
      "        \n",
      "        Return x * (2**i).\n",
      "    \n",
      "    lgamma(...)\n",
      "        lgamma(x)\n",
      "        \n",
      "        Natural logarithm of absolute value of Gamma function at x.\n",
      "    \n",
      "    log(...)\n",
      "        log(x[, base])\n",
      "        \n",
      "        Return the logarithm of x to the given base.\n",
      "        If the base not specified, returns the natural logarithm (base e) of x.\n",
      "    \n",
      "    log10(...)\n",
      "        log10(x)\n",
      "        \n",
      "        Return the base 10 logarithm of x.\n",
      "    \n",
      "    log1p(...)\n",
      "        log1p(x)\n",
      "        \n",
      "        Return the natural logarithm of 1+x (base e).\n",
      "        The result is computed in a way which is accurate for x near zero.\n",
      "    \n",
      "    log2(...)\n",
      "        log2(x)\n",
      "        \n",
      "        Return the base 2 logarithm of x.\n",
      "    \n",
      "    modf(...)\n",
      "        modf(x)\n",
      "        \n",
      "        Return the fractional and integer parts of x.  Both results carry the sign\n",
      "        of x and are floats.\n",
      "    \n",
      "    pow(...)\n",
      "        pow(x, y)\n",
      "        \n",
      "        Return x**y (x to the power of y).\n",
      "    \n",
      "    radians(...)\n",
      "        radians(x)\n",
      "        \n",
      "        Convert angle x from degrees to radians.\n",
      "    \n",
      "    sin(...)\n",
      "        sin(x)\n",
      "        \n",
      "        Return the sine of x (measured in radians).\n",
      "    \n",
      "    sinh(...)\n",
      "        sinh(x)\n",
      "        \n",
      "        Return the hyperbolic sine of x.\n",
      "    \n",
      "    sqrt(...)\n",
      "        sqrt(x)\n",
      "        \n",
      "        Return the square root of x.\n",
      "    \n",
      "    tan(...)\n",
      "        tan(x)\n",
      "        \n",
      "        Return the tangent of x (measured in radians).\n",
      "    \n",
      "    tanh(...)\n",
      "        tanh(x)\n",
      "        \n",
      "        Return the hyperbolic tangent of x.\n",
      "    \n",
      "    trunc(...)\n",
      "        trunc(x:Real) -> Integral\n",
      "        \n",
      "        Truncates x to the nearest Integral toward 0. Uses the __trunc__ magic method.\n",
      "\n",
      "DATA\n",
      "    e = 2.718281828459045\n",
      "    inf = inf\n",
      "    nan = nan\n",
      "    pi = 3.141592653589793\n",
      "    tau = 6.283185307179586\n",
      "\n",
      "FILE\n",
      "    (built-in)\n",
      "\n",
      "\n"
     ]
    }
   ],
   "source": [
    "help(math)"
   ]
  },
  {
   "cell_type": "code",
   "execution_count": null,
   "metadata": {},
   "outputs": [],
   "source": []
  }
 ],
 "metadata": {
  "kernelspec": {
   "display_name": "Python 3",
   "language": "python",
   "name": "python3"
  },
  "language_info": {
   "codemirror_mode": {
    "name": "ipython",
    "version": 3
   },
   "file_extension": ".py",
   "mimetype": "text/x-python",
   "name": "python",
   "nbconvert_exporter": "python",
   "pygments_lexer": "ipython3",
   "version": "3.6.5"
  }
 },
 "nbformat": 4,
 "nbformat_minor": 2
}
