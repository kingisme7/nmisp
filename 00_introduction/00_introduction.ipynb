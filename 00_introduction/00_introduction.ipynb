{
 "cells": [
  {
   "cell_type": "markdown",
   "metadata": {},
   "source": [
    "# 도입<br>Introduction"
   ]
  },
  {
   "cell_type": "markdown",
   "metadata": {
    "slideshow": {
     "slide_type": "slide"
    }
   },
   "source": [
    "##  왜 공학 문제 해결에 컴퓨터를 사용하려고 하는가?<br>Why do we want to use computers to solve engineering problems?"
   ]
  },
  {
   "cell_type": "markdown",
   "metadata": {
    "slideshow": {
     "slide_type": "slide"
    }
   },
   "source": [
    "* 많은 공학 문제는 종이와 연필로 해결할 수 있음.<br>We can solve many engineering problems with only a sheet of paper and a pencil.\n",
    "* 그러나 공학 문제는 때때로 복잡하여 많은 양의 계산을 필요로 함<br>However, occasionally engineering problems are complicated so that it requires a great deal of computation.\n",
    "* 오늘날의 (디지털) 컴퓨터는 대량의 계산을 64bit 또는 그 이상의 [정밀도](https://ko.wikipedia.org/wiki/%EB%B6%80%EB%8F%99%EC%86%8C%EC%88%98%EC%A0%90)로 처리할 수 있음<br>Modern (digital) computers can process relatively larger quantitiy of computations with [precisions](https://en.wikipedia.org/wiki/Floating-point_arithmetic) of 64bit or higher."
   ]
  },
  {
   "cell_type": "markdown",
   "metadata": {},
   "source": [
    "## 파이썬 프로그래밍 언어 소개<br>Brief introduction to Python Programming Language"
   ]
  },
  {
   "cell_type": "markdown",
   "metadata": {},
   "source": [
    "* 여기서는 [**파이썬**](https://www.python.org/) 이라는 컴퓨터 프로그래밍 언어를 사용할 것임.<br>Here, we will use [**Python**](https://www.python.org/) programming language.\n",
    "* 파이썬은 [**귀도 반 로섬**](https://ko.wikipedia.org/wiki/%EA%B7%80%EB%8F%84_%EB%B0%98_%EB%A1%9C%EC%84%AC) 이라는 네덜란드 프로그래머가 1989년 만들었음.<br>[**Guido van Rossum**](https://en.wikipedia.org/wiki/Guido_van_Rossum), a Programmer of the Netherland created python in 1989.\n",
    "* [파이썬](https://ko.wikipedia.org/wiki/%ED%8C%8C%EC%9D%B4%EC%8D%AC)은 대화형 프로그래밍 언어로, 배우기 쉽고, 무료이며, 그 기능을 확장시켜 주는 **모듈**이라는 프로그램이 많이 갖추어져 있음.<br>[Python](https://en.wikipedia.org/wiki/Python_%28programming_language%29) is an interpreted high level language, easy to learn, free, and surrounded by many **modules** extending its functionalities.\n",
    "* 2010년대 후반, 파이썬은 과학기술 계산, 데이터 분석, 심층 신경망 전산 학습 등의 영역에서도 널리 사용되고 있음.<br>In late 2010s, python is widely used in areas such as, but not limited to, scientific computation, data analytics and deep neural network machine learning."
   ]
  },
  {
   "cell_type": "markdown",
   "metadata": {},
   "source": [
    "## 아나콘다 배포판<br>Anaconda Distribution"
   ]
  },
  {
   "cell_type": "markdown",
   "metadata": {},
   "source": [
    "* 파이썬 언어로 프로그램을 개발하기 위해 필요한 소프트웨어는 여러 경로를 통해 배포되고 있음<br>We can obtain the software to develop programs in python through various distribution channels.\n",
    "* 그 가운데 여기서는 파이썬 3의 [아나콘다 배포판](https://www.anaconda.com/download/)을 추천함.<br>Among them, [Anaconda Distribution](https://www.anaconda.com/download/) with Python 3 is preferred here.\n",
    "* 해당 배포판은 과학기술계산용 *[사이파이 계열](http://www.hanbit.co.kr/store/books/look.php?p_code=B8736321868) 모듈*을 포함하고 있으며, 확장 기능 관리에 `conda` 라는 *패키지 관리* 프로그램을 이용할 수 있음.<br>The distribution includes [*SciPy Stack*](https://www.scipy.org/index.html) for scientific computation and `conda` package management software."
   ]
  },
  {
   "cell_type": "markdown",
   "metadata": {},
   "source": [
    "## `matplotlib` 그래프 소개<br>Introducing Plotting with `matplotlib`"
   ]
  },
  {
   "cell_type": "markdown",
   "metadata": {},
   "source": [
    "아래는 사이파이 계열 모듈 `matplotlib` 로 사인 그래프를 그리는 한 예를 보여 줌.<br>\n",
    "Following is an example plotting sine graph using `matplotlib` of SciPy stack."
   ]
  },
  {
   "cell_type": "code",
   "execution_count": 4,
   "metadata": {
    "collapsed": true
   },
   "outputs": [],
   "source": [
    "# Import NumPy and matplotlib of SciPy Stack\n",
    "import pylab as py"
   ]
  },
  {
   "cell_type": "code",
   "execution_count": 5,
   "metadata": {
    "collapsed": false,
    "scrolled": true
   },
   "outputs": [
    {
     "data": {
      "image/png": "[encoded data removed]",
      "text/plain": [
       "<Figure size 432x288 with 1 Axes>"
      ]
     },
     "metadata": {},
     "output_type": "display_data"
    }
   ],
   "source": [
    "# 0, 1, 2, ..., 360\n",
    "theta_deg_array = py.arange(0, 360 + 0.5, 1)\n",
    "theta_rad_array = py.deg2rad(theta_deg_array)\n",
    "\n",
    "# Sine value of each angle\n",
    "sin_theta_array = py.sin(theta_rad_array)\n",
    "\n",
    "# Plot sine graph\n",
    "py.plot(theta_deg_array, sin_theta_array, label=r'$sin\\theta$')\n",
    "\n",
    "# Add grid\n",
    "py.grid(True)\n",
    "\n",
    "# Add axis labels\n",
    "py.xlabel(r'$\\theta(rad)$')\n",
    "py.ylabel(r'sin$\\theta$')\n",
    "\n",
    "# Add legend table at an optimal location\n",
    "py.legend(loc=0)\n",
    "\n",
    "# Present plot\n",
    "py.show()\n"
   ]
  },
  {
   "cell_type": "markdown",
   "metadata": {},
   "source": [
    "도전 과제 1: $x$ 축 모눈 눈금을 45도 간격으로 설정 해 보시오.<br>\n",
    "Try this 1: Set $x$ axis grid interval to 45 degrees."
   ]
  },
  {
   "cell_type": "markdown",
   "metadata": {},
   "source": [
    "힌트 : `help(py.xticks)`<br>Hint: `help(py.xticks)`"
   ]
  },
  {
   "cell_type": "markdown",
   "metadata": {},
   "source": [
    "도전 과제 2: $cos\\theta^\\circ$ 그래프를 그려 보시오.<br>\n",
    "Try this 2: Plot a $cos\\theta^\\circ$ graph."
   ]
  },
  {
   "cell_type": "markdown",
   "metadata": {},
   "source": [
    "힌트 : `help(py.cos)`<br>Hint: `help(py.cos)`"
   ]
  },
  {
   "cell_type": "markdown",
   "metadata": {},
   "source": [
    "도전 과제 3: $(x-1)\\times(x-2)$ 그래프를 $0 \\le x \\le 4$ 범위에서 그려 보시오.<br>\n",
    "Try this 3: Plot $(x-1)\\times(x-2)$ over $0 \\le x \\le 4$ interval."
   ]
  },
  {
   "cell_type": "code",
   "execution_count": 10,
   "metadata": {
    "collapsed": false
   },
   "outputs": [],
   "source": [
    "#도전과제3\n",
    "import pylab as py\n",
    "# Specify range and interval of x\n",
    "x = py.arange(0, 4.0 +0.1/2, 0.1)\n",
    "py.xticks(py.arange(0, 4+0.3/2, 0.3))\n",
    "py.plot(x, (x-1)*(x-2))\n",
    "py.show()"
   ]
  },
  {
   "cell_type": "code",
   "execution_count": 11,
   "metadata": {
    "collapsed": false
   },
   "outputs": [],
   "source": [
    "#도전과제2\n",
    "import pylab as py\n",
    "# 0, 1, 2, ..., 360\n",
    "theta_deg_array = py.arange(0, 360 + 0.5, 1)\n",
    "theta_rad_array = py.deg2rad(theta_deg_array)\n",
    "\n",
    "# Sine value of each angle\n",
    "sin_theta_array = py.sin(theta_rad_array)\n",
    "\n",
    "# Plot sine graph\n",
    "py.plot(theta_deg_array, sin_theta_array, label=r'$sin\\theta$')\n",
    "py.xticks(py.arange(0, 360 + 0.5, 45))\n",
    "\n",
    "# Add grid\n",
    "py.grid(True)\n",
    "\n",
    "# Add axis labels\n",
    "py.xlabel(r'$\\theta(rad)$')\n",
    "py.ylabel(r'sin$\\theta$')\n",
    "\n",
    "# Add legend table at an optimal location\n",
    "py.legend(loc=0)\n",
    "\n",
    "# Present plot\n",
    "py.show()\n"
   ]
  },
  {
   "cell_type": "code",
   "execution_count": 52,
   "metadata": {
    "collapsed": false
   },
   "outputs": [
    {
     "data": {
      "image/png": "[encoded data removed]",
      "text/plain": [
       "<Figure size 432x288 with 1 Axes>"
      ]
     },
     "metadata": {},
     "output_type": "display_data"
    }
   ],
   "source": [
    "#도전과제2\n",
    "import pylab as py\n",
    "# 0, 1, 2, ..., 360\n",
    "theta_deg_array = py.arange(0, 360 + 0.5, 1)\n",
    "theta_rad_array = py.deg2rad(theta_deg_array)\n",
    "\n",
    "# Sine value of each angle\n",
    "cos_theta_array = py.cos(theta_rad_array)\n",
    "sin_theta_array = py.sin(theta_rad_array)\n",
    "\n",
    "# Plot sine graph\n",
    "py.plot(theta_deg_array, cos_theta_array, label=r'$cos\\theta$')\n",
    "py.plot(theta_deg_array, sin_theta_array, label=r'$sin\\theta$')\n",
    "\n",
    "# Add grid\n",
    "py.grid(True)\n",
    "\n",
    "# Add axis labels\n",
    "py.xlabel(r'$\\theta(rad)$')\n",
    "py.ylabel(r'cos$\\theta$')\n",
    "\n",
    "# Add legend table at an optimal location\n",
    "py.legend(loc=0)\n",
    "\n",
    "# Present plot\n",
    "py.show()\n"
   ]
  },
  {
   "cell_type": "code",
   "execution_count": null,
   "metadata": {
    "collapsed": true
   },
   "outputs": [],
   "source": []
  },
  {
   "cell_type": "code",
   "execution_count": null,
   "metadata": {
    "collapsed": true
   },
   "outputs": [],
   "source": []
  }
 ],
 "metadata": {
  "kernelspec": {
   "display_name": "Python [Root]",
   "language": "python",
   "name": "Python [Root]"
  },
  "language_info": {
   "codemirror_mode": {
    "name": "ipython",
    "version": 2
   },
   "file_extension": ".py",
   "mimetype": "text/x-python",
   "name": "python",
   "nbconvert_exporter": "python",
   "pygments_lexer": "ipython2",
   "version": "2.7.12"
  }
 },
 "nbformat": 4,
 "nbformat_minor": 2
}
