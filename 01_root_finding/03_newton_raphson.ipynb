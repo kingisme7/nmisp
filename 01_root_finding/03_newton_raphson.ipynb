{
 "cells": [
  {
   "cell_type": "code",
   "execution_count": 1,
   "metadata": {
    "collapsed": true
   },
   "outputs": [],
   "source": [
    "# 그래프, 수학 기능 추가\n",
    "# Add graph and math features\n",
    "import pylab as py"
   ]
  },
  {
   "cell_type": "markdown",
   "metadata": {},
   "source": [
    "# 뉴튼 랩슨법<br>Newton Rapson Method"
   ]
  },
  {
   "cell_type": "markdown",
   "metadata": {},
   "source": [
    "10의 제곱근을 구하기 위해 사용했던 함수를 생각해 보자.<br>Let's think about the function that we used to find the square root of 10."
   ]
  },
  {
   "cell_type": "markdown",
   "metadata": {},
   "source": [
    "$$\n",
    "f(x)=x^2-10\n",
    "$$"
   ]
  },
  {
   "cell_type": "markdown",
   "metadata": {},
   "source": [
    "이 함수는 연속이고 미분 가능하다.<br>This function is continuous and differentiable."
   ]
  },
  {
   "cell_type": "markdown",
   "metadata": {},
   "source": [
    "$$\n",
    "\\frac{d}{dx}f\\left(x\\right)=2x\n",
    "$$"
   ]
  },
  {
   "cell_type": "code",
   "execution_count": 2,
   "metadata": {
    "collapsed": false
   },
   "outputs": [
    {
     "name": "stdout",
     "output_type": "stream",
     "text": [
      "1\n"
     ]
    }
   ],
   "source": [
    "# 이 함수를 0으로 만드는 x 를 찾고자 함\n",
    "# Intend to find x making the function below zero\n",
    "def f(x):\n",
    "    return x ** 2 - 10\n",
    "d = abs(f(3))\n",
    "print(d)\n",
    "\n",
    "# 위 함수의 x에 대한 미분을 정의\n",
    "# x-Derivative of the function above\n",
    "#df/dx 미분 함수를 정의해\n",
    "def df_dx(x):\n",
    "    return 2 * x"
   ]
  },
  {
   "cell_type": "code",
   "execution_count": 3,
   "metadata": {
    "collapsed": false
   },
   "outputs": [
    {
     "name": "stdout",
     "output_type": "stream",
     "text": [
      "15\n"
     ]
    }
   ],
   "source": [
    "epsilon = 1e-3\n",
    "\n",
    "# x 의 범위와 간격을 지정 \n",
    "# Specify range and interval of x\n",
    "x_start = 0\n",
    "x_end = 6\n",
    "x_interval = 0.5\n",
    "\n",
    "\n",
    "def plot(x_start, x_end, x_interval=None):\n",
    "    #만약 간격값이 넣어지지 않으면 새로운 간격을 정의\n",
    "    if x_interval is None:\n",
    "        x_interval = x_end - x_start\n",
    "\n",
    "    x = py.arange(x_start, x_end+0.1*x_interval, x_interval)\n",
    "    # y = x^2\n",
    "    #앞에서 정의한 f함수를 그대로 따라\n",
    "    py.plot(x, f(x), 'ko', label='$y=x^2-10$')\n",
    "    # y = 0\n",
    "    #py.zeros_like(변수값)\n",
    "    py.plot(x, py.zeros_like(x), 'ro', label='y=0')\n",
    "\n",
    "    # +/- epsilon\n",
    "    epsilon=0.15\n",
    "    py.plot(x, epsilon * py.ones_like(x), 'r-.', label='$+\\epsilon$')\n",
    "    py.plot(x, -epsilon * py.ones_like(x), 'r--', label='$-\\epsilon$')\n",
    "\n",
    "    # x 축 이름표\n",
    "    # x axis label\n",
    "    py.xlabel('x')\n",
    "\n",
    "    # y 축 이름표\n",
    "    # y axis label\n",
    "    py.ylabel('y')\n",
    "\n",
    "    # 범례 표시\n",
    "    # Show legend\n",
    "    py.legend()\n",
    "\n",
    "    # 모눈 표시\n",
    "    # Indicate grid\n",
    "    py.grid()\n",
    "    \n",
    "    return x\n",
    "\n",
    "def plot_tangent(x_array):\n",
    "    # y = 2x\n",
    "    py.plot(x_array, 2 * x_array, 'b.', label='$y=2x$')\n",
    "\n",
    "    # 범례 표시\n",
    "    # Show legend\n",
    "    py.legend()\n",
    "\n",
    "print(f(5))\n",
    "#0.5 간격으로 함수를 표시\n",
    "#plot함수를 이용해서 입실론, f함수에 대해서 그린 후 2를 반환\n",
    "x_array = plot(x_start, x_end, x_interval)\n",
    "#탄젠트 함수에대해서 그래프를 그려줘\n",
    "plot_tangent(x_array)\n",
    "py.show()"
   ]
  },
  {
   "cell_type": "markdown",
   "metadata": {},
   "source": [
    "이를 이용하여, 원하는 위치 $x_i$ 에서의 접선을 그릴 수 있다.<br>Using this, we can plot tangents at desirable locations of $x_i$."
   ]
  },
  {
   "cell_type": "markdown",
   "metadata": {},
   "source": [
    "#접선 방정식은 상수 *(변수 - 상수) + 상수\n",
    "\n",
    "$$\n",
    "y_{tangent}=\\frac{d}{dx}f\\left(x_i\\right) \\left(x-x_i \\right) + y_i\n",
    "$$"
   ]
  },
  {
   "cell_type": "markdown",
   "metadata": {},
   "source": [
    "# 상수값 yi\n",
    "여기서 $y_i=f\\left(x_i\\right)$ 상수이다.<br>Here, $y_i=f\\left(x_i\\right)$."
   ]
  },
  {
   "cell_type": "code",
   "execution_count": 4,
   "metadata": {
    "collapsed": false
   },
   "outputs": [],
   "source": [
    "import numpy.random as nr\n",
    "#뭐야 이건\n",
    "nr.seed()\n",
    "\n",
    "#기울기 하나를 그래프로 그리자\n",
    "def plot_one_tangent(x_i, x_interval):\n",
    "    #x_i**2-10 = y_i에 저장\n",
    "    y_i = f(x_i)\n",
    "    slope = 2 * x_i\n",
    "    \n",
    "    x_tangent_array = py.linspace(x_i - x_interval * 2, x_i + x_interval * 2, 4+1)\n",
    "    y_tangent_array = slope * (x_tangent_array - x_i) + y_i\n",
    "    \n",
    "    py.plot(x_tangent_array, y_tangent_array, color=nr.random(3), alpha=0.5)\n",
    "\n",
    "    \n",
    "#여러 개의 탄젠트 기울기를 그리자\n",
    "def plot_many_tangents(x_array):\n",
    "\n",
    "    x_interval = x_array[1] - x_array[0]\n",
    "\n",
    "    for x_i in x_array:\n",
    "        \n",
    "        plot_one_tangent(x_i, x_interval)\n",
    "\n",
    "x = plot(x_start, x_end, x_interval)\n",
    "\n",
    "plot_many_tangents(x)\n",
    "py.grid(True)\n",
    "py.show()"
   ]
  },
  {
   "cell_type": "markdown",
   "metadata": {},
   "source": [
    "기울기가 0이 아니라면, 접선은 $x$축과 만날 것이다. 그 교점의 $x$ 좌표를 $x_j$라 하자.<br>If the slope is not zero, the tangent would intersect with $x$ axis. Let $x_j$ be the $x$ coordinate of the intersection."
   ]
  },
  {
   "cell_type": "markdown",
   "metadata": {},
   "source": [
    "$$\n",
    "\\begin{align}\n",
    "\\frac{d}{dx}f\\left(x_i\\right) \\left(x_j-x_i \\right) + y_i=0 \\\\\n",
    "\\frac{d}{dx}f\\left(x_i\\right) \\left(x_j-x_i \\right)=-f\\left(x_i\\right) \\\\\n",
    "\\left(x_j-x_i \\right)=-\\frac{f\\left(x_i\\right)}{\\frac{d}{dx}f\\left(x_i\\right)} \\\\\n",
    "x_j=x_i-\\frac{f\\left(x_i\\right)}{\\frac{d}{dx}f\\left(x_i\\right)} \\\\\n",
    "\\end{align}\n",
    "$$"
   ]
  },
  {
   "cell_type": "markdown",
   "metadata": {},
   "source": [
    "기울기가 0이라면 $x_j$를 찾는 것은 쉽지 않을 것이다,실제로 기울기가 0 인곳으로 가면 너무 새로운 x값을 탖기가 너무 어려움.<br>If the slope is zero, finding $x_j$ would not be easy."
   ]
  },
  {
   "cell_type": "markdown",
   "metadata": {},
   "source": [
    "$x_i=5$ 지점에서의 접선을 그려 보자.<br>Let's plot tanget at $x_i=5$."
   ]
  },
  {
   "cell_type": "code",
   "execution_count": 5,
   "metadata": {
    "collapsed": false
   },
   "outputs": [],
   "source": [
    "#시작 = 0 , 끝 = 6 간격은 0,5\n",
    "x = plot(x_start, x_end, x_interval)\n",
    "x_i = 5\n",
    "plot_one_tangent(x_i, 0.8)\n",
    "py.show()"
   ]
  },
  {
   "cell_type": "markdown",
   "metadata": {},
   "source": [
    "$x_j$를 한번 계산해 보자.<br>Let's calculate $x_j$, too."
   ]
  },
  {
   "cell_type": "code",
   "execution_count": 18,
   "metadata": {
    "collapsed": false
   },
   "outputs": [],
   "source": [
    "#x = 5 - 15 / 10\n",
    "x_j = x_i - f(x_i) / (2 * x_i)\n",
    "#소수점 값은 버리는 /"
   ]
  },
  {
   "cell_type": "code",
   "execution_count": 17,
   "metadata": {
    "collapsed": false
   },
   "outputs": [
    {
     "data": {
      "text/plain": [
       "4"
      ]
     },
     "execution_count": 17,
     "metadata": {},
     "output_type": "execute_result"
    }
   ],
   "source": [
    "x_j"
   ]
  },
  {
   "cell_type": "code",
   "execution_count": 8,
   "metadata": {
    "collapsed": false
   },
   "outputs": [
    {
     "data": {
      "text/plain": [
       "6"
      ]
     },
     "execution_count": 8,
     "metadata": {},
     "output_type": "execute_result"
    }
   ],
   "source": [
    "f(x_j)"
   ]
  },
  {
   "cell_type": "markdown",
   "metadata": {},
   "source": [
    "$x_j$ 값은 10의 제곱근에 $x_i$ 보다 가까와졌다.<br> $x_j$ is closer to $\\sqrt{10}$ than $x_i$."
   ]
  },
  {
   "cell_type": "markdown",
   "metadata": {},
   "source": [
    "$x_i$에 $x_j$ 값을 넣고 한번 더 반복해 보자.<br>Let's iterate once more with $x_j$ as new $x_i$."
   ]
  },
  {
   "cell_type": "code",
   "execution_count": 9,
   "metadata": {
    "collapsed": true
   },
   "outputs": [],
   "source": [
    "x_i = x_j"
   ]
  },
  {
   "cell_type": "code",
   "execution_count": 10,
   "metadata": {
    "collapsed": true
   },
   "outputs": [],
   "source": [
    "#\n",
    "x_j = x_i - f(x_i) / (2 * x_i)"
   ]
  },
  {
   "cell_type": "code",
   "execution_count": 11,
   "metadata": {
    "collapsed": false
   },
   "outputs": [
    {
     "data": {
      "text/plain": [
       "4"
      ]
     },
     "execution_count": 11,
     "metadata": {},
     "output_type": "execute_result"
    }
   ],
   "source": [
    "x_j"
   ]
  },
  {
   "cell_type": "code",
   "execution_count": 12,
   "metadata": {
    "collapsed": false
   },
   "outputs": [
    {
     "data": {
      "text/plain": [
       "6"
      ]
     },
     "execution_count": 12,
     "metadata": {},
     "output_type": "execute_result"
    }
   ],
   "source": [
    "f(x_j)"
   ]
  },
  {
   "cell_type": "markdown",
   "metadata": {},
   "source": [
    "새로운 $x_j$ 값은 10의 제곱근에 더 가까와졌다.<br>New $x_j$ is even closer to the square root of 10."
   ]
  },
  {
   "cell_type": "markdown",
   "metadata": {},
   "source": [
    "## 뉴튼 랩슨법 구현<br>Implementing Newton Raphson Method"
   ]
  },
  {
   "cell_type": "code",
   "execution_count": 13,
   "metadata": {
    "collapsed": true
   },
   "outputs": [],
   "source": [
    "epsilon = 1e-3\n",
    "\n",
    "\n",
    "# x 의 범위와 간격을 지정 \n",
    "# Specify range and interval of x\n",
    "x_initial = 5.0\n",
    "\n",
    "# 이 함수를 0으로 만드는 x 를 찾고자 함\n",
    "# Intend to find x making the function below zero\n",
    "def f(x):\n",
    "    return x ** 2 - 10\n",
    "\n",
    "\n",
    "# 위 함수의 x에 대한 미분\n",
    "# x-Derivative of the function above\n",
    "def df_dx(x):\n",
    "    return 2 * x"
   ]
  },
  {
   "cell_type": "code",
   "execution_count": 14,
   "metadata": {
    "collapsed": false
   },
   "outputs": [
    {
     "name": "stdout",
     "output_type": "stream",
     "text": [
      "('counter =', 3)\n",
      "('sqrt_10 =', 3.162319422150883)\n",
      "('sqrt_10 ** 2 - 10 =', 0.00026412771269335167)\n"
     ]
    }
   ],
   "source": [
    "def newton_raphson(f, df_dx, x_initial, epsilon):\n",
    "    \"\"\"\n",
    "    뉴튼 랩슨 법\n",
    "    Newton Raphson Method\n",
    "    \n",
    "    f : f(x) = 0 을 만족하는 x 를 찾고자 하는 함수 Function that we want to find x satisfying f(x) = 0\n",
    "    df_dx : f(x) 함수의 x 에 대한 미분 x-derivative of the function above\n",
    "    x_initial : x의 초기값 Initial value of x\n",
    "    epsilon : 희망하는 근의 정밀도 Desirable precision of the root\n",
    "    \"\"\"\n",
    "    counter = 0\n",
    "    \n",
    "    # 변수 x_i 를 초기화\n",
    "    # Initialize variable x_i\n",
    "    x_i = x_initial\n",
    "\n",
    "    # f(x_i) 의 절대값이 epsilon 보다 더 크다면 계속 반복\n",
    "    # Iterate while the absolute value of f(x) is larger than epsilon\n",
    "    while abs(f(x_i)) > epsilon:\n",
    "        # x_i 지점에서의 접선의 기울기\n",
    "        # Slope of the tangent at x_i\n",
    "        slope = df_dx(x_i)\n",
    "        \n",
    "        assert abs(slope) > epsilon\n",
    "\n",
    "        # 접선과 x축의 교점\n",
    "        # Intersection of the tangent and the x axis\n",
    "        x_i += - f(x_i) / slope\n",
    "\n",
    "        counter += 1\n",
    "    \n",
    "    print('counter =', counter)\n",
    "        \n",
    "    return x_i\n",
    "\n",
    "\n",
    "sqrt_10 = newton_raphson(f, df_dx, x_initial, epsilon)\n",
    "\n",
    "# 뉴튼 랩슨법으로 찾은 10의 제곱근\n",
    "# Square root of 10 that we just found using the Newton Raphson method\n",
    "print('sqrt_10 =', sqrt_10)\n",
    "# 아래 연산의 결과는 0인가?\n",
    "# Is the result of the following calculation zero?\n",
    "print('sqrt_10 ** 2 - 10 =', sqrt_10 ** 2 - 10)"
   ]
  },
  {
   "cell_type": "markdown",
   "metadata": {},
   "source": [
    "도전 과제 : $sin^2(\\theta^{\\circ})+\\frac{1}{90}\\pi\\theta^{\\circ}=0.5$ 인 $\\theta^{\\circ}$를 구해 보시오.<br>Try this: Find $\\theta^{\\circ}$ satisfying $sin^2(\\theta^{\\circ})+\\frac{1}{90}\\pi\\theta^{\\circ}=0.5$."
   ]
  },
  {
   "cell_type": "code",
   "execution_count": 15,
   "metadata": {
    "collapsed": true
   },
   "outputs": [],
   "source": []
  },
  {
   "cell_type": "code",
   "execution_count": null,
   "metadata": {
    "collapsed": true
   },
   "outputs": [],
   "source": []
  },
  {
   "cell_type": "code",
   "execution_count": null,
   "metadata": {
    "collapsed": true
   },
   "outputs": [],
   "source": []
  },
  {
   "cell_type": "code",
   "execution_count": null,
   "metadata": {
    "collapsed": true
   },
   "outputs": [],
   "source": []
  },
  {
   "cell_type": "code",
   "execution_count": null,
   "metadata": {
    "collapsed": true
   },
   "outputs": [],
   "source": []
  },
  {
   "cell_type": "code",
   "execution_count": null,
   "metadata": {
    "collapsed": true
   },
   "outputs": [],
   "source": []
  }
 ],
 "metadata": {
  "kernelspec": {
   "display_name": "Python [Root]",
   "language": "python",
   "name": "Python [Root]"
  },
  "language_info": {
   "codemirror_mode": {
    "name": "ipython",
    "version": 2
   },
   "file_extension": ".py",
   "mimetype": "text/x-python",
   "name": "python",
   "nbconvert_exporter": "python",
   "pygments_lexer": "ipython2",
   "version": "2.7.12"
  }
 },
 "nbformat": 4,
 "nbformat_minor": 2
}
