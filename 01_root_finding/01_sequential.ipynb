{
 "cells": [
  {
   "cell_type": "code",
   "execution_count": null,
   "metadata": {
    "collapsed": true
   },
   "outputs": [],
   "source": [
    "# 그래프, 수학 기능 추가\n",
    "# Add graph and math features\n",
    "import pylab as py"
   ]
  },
  {
   "cell_type": "markdown",
   "metadata": {},
   "source": [
    "# 순차법<br>Sequential Method"
   ]
  },
  {
   "cell_type": "markdown",
   "metadata": {},
   "source": [
    "10의 제곱근을 구한다고 생각해 보자.<br>Let's try to find the square root of 10."
   ]
  },
  {
   "cell_type": "markdown",
   "metadata": {},
   "source": [
    "$$\n",
    "x=\\sqrt{10} = 10 ^ \\frac{1}{2} = 10 ^ {0.5}\n",
    "$$"
   ]
  },
  {
   "cell_type": "markdown",
   "metadata": {},
   "source": [
    "계산기라면 이런 식으로 구할 수 있을 것이다.<br>With a calcuator, an engineer can find it as follows."
   ]
  },
  {
   "cell_type": "code",
   "execution_count": 3,
   "metadata": {
    "collapsed": false
   },
   "outputs": [
    {
     "name": "stdout",
     "output_type": "stream",
     "text": [
      "sqrt(10) = 3.1622776601683795\n"
     ]
    }
   ],
   "source": [
    "#근을 표시하기 위해서 ** 0.5 을 사용\n",
    "print('sqrt(10) =', 10 ** 0.5)"
   ]
  },
  {
   "cell_type": "markdown",
   "metadata": {},
   "source": [
    "조금 다른 방식으로 해 보자.<br>Let's try a different way."
   ]
  },
  {
   "cell_type": "markdown",
   "metadata": {},
   "source": [
    "양변을 제곱해 보자.<br>Let's square both sides."
   ]
  },
  {
   "cell_type": "markdown",
   "metadata": {},
   "source": [
    "$$\n",
    "\\begin{align}\n",
    "x^2 &= \\left(10 ^ {0.5}\\right)^2 \\\\\n",
    "x^2 &= 10\n",
    "\\end{align}\n",
    "$$"
   ]
  },
  {
   "cell_type": "markdown",
   "metadata": {},
   "source": [
    "이 관계를 그래프로 표현해 보면 다음과 같을 것이다.<br>An engineer can visualize this relationship as follows."
   ]
  },
  {
   "cell_type": "code",
   "execution_count": 41,
   "metadata": {
    "collapsed": false
   },
   "outputs": [
    {
     "data": {
      "text/plain": [
       "[<matplotlib.lines.Line2D at 0x83343c8>]"
      ]
     },
     "execution_count": 41,
     "metadata": {},
     "output_type": "execute_result"
    },
    {
     "data": {
      "image/png": "[encoded data removed]",
      "text/plain": [
       "<Figure size 432x288 with 1 Axes>"
      ]
     },
     "metadata": {},
     "output_type": "display_data"
    }
   ],
   "source": [
    "# x 의 범위와 간격을 지정 \n",
    "# Specify range and interval of x\n",
    "x = py.arange(-5, 5, 0.2)\n",
    "# y = x^2\n",
    "py.plot(x, x**2, 'k.')\n",
    "# y = 10\n",
    "py.plot(x, 10*py.ones_like(x), 'r.')"
   ]
  },
  {
   "cell_type": "markdown",
   "metadata": {},
   "source": [
    "양변에서 10을 빼 보자.<br>Let's subtract 10 from both sides."
   ]
  },
  {
   "cell_type": "markdown",
   "metadata": {},
   "source": [
    "$$\n",
    "\\begin{align}\n",
    "x^2-10 &= 10-10\\\\\n",
    "x^2-10 &= 0\n",
    "\\end{align}\n",
    "$$"
   ]
  },
  {
   "cell_type": "markdown",
   "metadata": {},
   "source": [
    "이 관계도 그려보자.<br>Let's plot this, too."
   ]
  },
  {
   "cell_type": "code",
   "execution_count": 44,
   "metadata": {
    "collapsed": false
   },
   "outputs": [
    {
     "data": {
      "image/png": "[encoded data removed]",
      "text/plain": [
       "<Figure size 432x288 with 1 Axes>"
      ]
     },
     "metadata": {},
     "output_type": "display_data"
    }
   ],
   "source": [
    "# x 의 범위와 간격을 지정 \n",
    "# Specify range and interval of x\n",
    "x = py.arange(-5, 5, 0.2)\n",
    "# y = x^2\n",
    "py.plot(x, x**2 - 10, 'k.')\n",
    "# y = 0\n",
    "py.plot(x, py.zeros_like(x), 'r.')\n",
    "# 모눈 표시\n",
    "# Indicate grid\n",
    "py.grid()"
   ]
  },
  {
   "cell_type": "markdown",
   "metadata": {},
   "source": [
    "위 방정식을 만족하는 $x$ 는 10의 제곱근일 것이다.<br>$x$ satisfying the equation above would be the square root of 10."
   ]
  },
  {
   "cell_type": "markdown",
   "metadata": {},
   "source": [
    "이러한 $x$를 위 방정식의 **근** 이라고 부른다.<br>We call such $x$ a **root** of the equation above."
   ]
  },
  {
   "cell_type": "markdown",
   "metadata": {},
   "source": [
    "컴퓨터의 연산능력을 이용하여 근을 찾아 보도록 하자.<br>Let's try to find the root using the computer's computation capability."
   ]
  },
  {
   "cell_type": "markdown",
   "metadata": {},
   "source": [
    "여러 가능한 방법 가운데 하나는 $x$를 어떤 *초기값*으로부터 시작하여 일정 *간격* 으로 증가시키면서 $x^2-10$을 계산해 보는 것이다.<br>\n",
    "One of the possible ways is to evaluate $x^2-10$ starting from an *initial value* of $x$, increasing by a constant *interval*."
   ]
  },
  {
   "cell_type": "markdown",
   "metadata": {},
   "source": [
    "그렇게 반복하다가 $\\left|x^2-10\\right|$ 이 어떤 *만족스러운 수준* 이하가 되면, 그 때의 $x$ 값이 $\\sqrt{10}$의 *근사값*이 될 것이다.<br>\n",
    "During the iteration, the $x$ making $\\left| x^2-10 \\right|$ below a certain *satisfactory level* would be the *approximation* of $\\sqrt{10}.$"
   ]
  },
  {
   "cell_type": "markdown",
   "metadata": {},
   "source": [
    "$$\n",
    "\\left(\\left|x^2-10\\right|<\\epsilon \\right) \\equiv \\left(\\left|x^2-10\\right|\\approx 0 \\right) \n",
    "$$"
   ]
  },
  {
   "cell_type": "markdown",
   "metadata": {},
   "source": [
    "여기서 $\\epsilon$ 값의 의미는, 예를 들어 $\\left|y\\right| < \\epsilon$ 이면 $y \\approx 0$ 이라고 보는 것이다.<br>\n",
    "Here, $\\epsilon$ means that if $\\left|y\\right| < \\epsilon$ then $y \\approx 0$."
   ]
  },
  {
   "cell_type": "markdown",
   "metadata": {},
   "source": [
    "## 왜 $\\epsilon$ 이 필요한가?<br>Why do we need $\\epsilon$?"
   ]
  },
  {
   "cell_type": "markdown",
   "metadata": {},
   "source": [
    "위의 그래프의 일부를 확대해보자.<br>Let's zoom into the plot above. "
   ]
  },
  {
   "cell_type": "code",
   "execution_count": 50,
   "metadata": {
    "collapsed": false
   },
   "outputs": [
    {
     "data": {
      "image/png": "[encoded data removed]",
      "text/plain": [
       "<Figure size 432x288 with 1 Axes>"
      ]
     },
     "metadata": {},
     "output_type": "display_data"
    }
   ],
   "source": [
    "# x 의 범위와 간격을 지정 \n",
    "# Specify range and interval of x\n",
    "x = py.arange(2.8, 3.5, 0.2)\n",
    "# y = x^2\n",
    "py.plot(x, x**2 - 10, 'ko')\n",
    "# y = 0\n",
    "py.plot(x, py.zeros_like(x), 'ro')\n",
    "# x 축 이름표\n",
    "# x axis label\n",
    "py.xlabel('x')\n",
    "# 모눈 표시\n",
    "# Indicate grid\n",
    "py.grid()"
   ]
  },
  {
   "cell_type": "markdown",
   "metadata": {},
   "source": [
    "위 그림에서 $|x^2-10|$이 $x=3.0$과 $x=3.2$ 사이 어딘가에서 0이 될 것임을 짐작할 수 있다.<br>\n",
    "We can see that $|x^2-10|$ will be zero somewhere between $x=3.0$ and $x=3.2$."
   ]
  },
  {
   "cell_type": "markdown",
   "metadata": {},
   "source": [
    "그 값을 더 정확히 알고 싶다면 점을 그리는 간격을 줄이면 될 것이다.<br>\n",
    "To find more precise value, we can reduce the interval of the dots."
   ]
  },
  {
   "cell_type": "code",
   "execution_count": 57,
   "metadata": {
    "collapsed": false
   },
   "outputs": [
    {
     "data": {
      "image/png": "[encoded data removed]",
      "text/plain": [
       "<Figure size 432x288 with 1 Axes>"
      ]
     },
     "metadata": {},
     "output_type": "display_data"
    }
   ],
   "source": [
    "# x 의 범위와 간격을 지정 \n",
    "# Specify range and interval of x\n",
    "x = py.arange(2.8, 3.5, 0.05)\n",
    "# y = x^2\n",
    "py.plot(x, x**2 - 10, 'ko')\n",
    "# y = 0\n",
    "py.plot(x, py.zeros_like(x), 'ro')\n",
    "# x 축 이름표\n",
    "# x axis label\n",
    "py.xlabel('x')\n",
    "# 모눈 표시\n",
    "# Indicate grid\n",
    "py.grid()"
   ]
  },
  {
   "cell_type": "markdown",
   "metadata": {},
   "source": [
    "사람의 경우는 그 간격을 무한히 줄여서 점이 **연속적**이 되는 것을 생각할 수 있지만, 컴퓨터는 **이산적**인 그래프까지만 그릴 수 있다.<br>\n",
    "A person may think infinitely small interval so that the dots become **continuous**, however, computer plots can only be **discrete**."
   ]
  },
  {
   "cell_type": "markdown",
   "metadata": {},
   "source": [
    "컴퓨터는 **정밀도**라는 어떤 수준 이하로 점을 그리는 간격을 줄일 수 없기 때문이다.<br>Because computers are unable to make the interval of the dots smaller than a certain level called **precision**."
   ]
  },
  {
   "cell_type": "markdown",
   "metadata": {},
   "source": [
    "사람은 $x^2-10$ 을 0으로 만들 수 있는 $x$ 를 생각할 수 있지만, 컴퓨터가 찾아 낼 수 있는 최선의 $\\sqrt{10}$의 근사값으로도 $x^2-10$ 이 정확히 0이 되지 않을 수 있는 것이다.<br>\n",
    "While a person may think about $x$ making $x^2-10$ exact zero, even computer's best approximation of $\\sqrt{10}$ may not exactly make $x^2-10$ zero."
   ]
  },
  {
   "cell_type": "markdown",
   "metadata": {},
   "source": [
    "그래서 컴퓨터의 계산 결과 절대값이 **$\\epsilon$** 값보다 작으면, 그 결과는 0과 같은 것으로 생각할 것이다.<br>\n",
    "Hence, if a computation result has absolute value smaller then **$\\epsilon$**, we would regard that the result is the same as zero."
   ]
  },
  {
   "cell_type": "code",
   "execution_count": 60,
   "metadata": {
    "collapsed": false
   },
   "outputs": [
    {
     "data": {
      "image/png": "[encoded data removed]",
      "text/plain": [
       "<Figure size 432x288 with 1 Axes>"
      ]
     },
     "metadata": {},
     "output_type": "display_data"
    }
   ],
   "source": [
    "# x 의 범위와 간격을 지정 \n",
    "# Specify range and interval of x\n",
    "x = py.arange(2.8, 3.5, 0.05)\n",
    "# y = x^2\n",
    "py.plot(x, x**2 - 10, 'ko', label='$y=x^2-10$')\n",
    "# y = 0\n",
    "py.plot(x, py.zeros_like(x), 'ro', label='y=0')\n",
    "\n",
    "# +/- epsilon\n",
    "epsilon=0.15\n",
    "py.plot(x, epsilon * py.ones_like(x), 'r-.', label='$+\\epsilon$')\n",
    "py.plot(x, -epsilon * py.ones_like(x), 'r--', label='$-\\epsilon$')\n",
    "\n",
    "# x 축 이름표\n",
    "# x axis label\n",
    "py.xlabel('x')\n",
    "\n",
    "# y 축 이름표\n",
    "# y axis label\n",
    "py.ylabel('y')\n",
    "\n",
    "# 범례 표시\n",
    "# Show legend\n",
    "py.legend()\n",
    "\n",
    "# 모눈 표시\n",
    "# Indicate grid\n",
    "py.grid()"
   ]
  },
  {
   "cell_type": "markdown",
   "metadata": {},
   "source": [
    "### 순차법 구현<br>Implementing Sequantial Method"
   ]
  },
  {
   "cell_type": "markdown",
   "metadata": {},
   "source": [
    "아래 python 프로그램은 순차법으로 $\\sqrt{10}$을 계산한다<br>Following python script calculates $\\sqrt{10}$ using sequential method."
   ]
  },
  {
   "cell_type": "code",
   "execution_count": 16,
   "metadata": {
    "collapsed": false
   },
   "outputs": [
    {
     "name": "stdout",
     "output_type": "stream",
     "text": [
      "('counter =', 316213)\n",
      "('sqrt_10 =', 3.1621200000000003)\n",
      "('sqrt_10 ** 2 - 10 =', -0.00099710559999799386)\n"
     ]
    }
   ],
   "source": [
    "# y_i 의 절대값이 이 값 보다 작으면 y_i = 0으로 본다\n",
    "# If absolute value of y_i is smaller than this, we would think y_i = 0.\n",
    "epsilon = 1e-3\n",
    "# sqrt_10 의 초기값\n",
    "# Initial value for sqrt_10\n",
    "sqrt_10 = 'Not Found'\n",
    "\n",
    "# 순차법의 매개변수\n",
    "# Parameters of the Sequantial Method\n",
    "# x_i 의 초기값\n",
    "# Initial value of x_i\n",
    "x_init = 0\n",
    "# x_i 의 마지막 값\n",
    "# Final value of x_i\n",
    "x_final = 4\n",
    "# i 번째 x 값과 i+1 번째 x 값 사이의 간격\n",
    "# The interval between i'th and (i+1)'th x's\n",
    "x_interval = 1e-5\n",
    "\n",
    "# 일련의 x_i 값을 미리 준비한다\n",
    "# Prepare a series of x_i values in advance\n",
    "x_array = py.arange(x_init, x_final+x_interval*0.5, x_interval)\n",
    "\n",
    "# 몇번 반복했는지 측정해 보자\n",
    "# Let's count the number of iterations\n",
    "counter = 0\n",
    "\n",
    "# x_i 에 관한 반복문\n",
    "# x_i loop\n",
    "for x_i in x_array:\n",
    "    # Evaluate the function\n",
    "    y_i = x_i ** 2 - 10\n",
    "    counter += 1\n",
    "    # Check if absolute value is smaller than epsilon\n",
    "    if abs(y_i) < epsilon:\n",
    "        sqrt_10 = x_i\n",
    "        # found\n",
    "        break\n",
    "\n",
    "# 반복 횟수\n",
    "# Number of iterations\n",
    "print('counter =', counter)\n",
    "\n",
    "# 순차법으로 찾은 10의 제곱근\n",
    "# Square root of 10 that we just found using the sequential method\n",
    "print('sqrt_10 =', sqrt_10)\n",
    "\n",
    "# 아래 연산의 결과는 0인가?\n",
    "# Is the result of the following calculation zero?\n",
    "print('sqrt_10 ** 2 - 10 =', sqrt_10 ** 2 - 10)"
   ]
  },
  {
   "cell_type": "markdown",
   "metadata": {},
   "source": [
    "`epsilon`, `x_init`, `x_interval` 등 매개 변수를 바꾸어 보면서 결과가 어떻게 달라지는지 확인 해 보라.<br>\n",
    "See how the results change as you change parameters such as `epsilon`, `x_init`, and `x_interval`."
   ]
  },
  {
   "cell_type": "markdown",
   "metadata": {},
   "source": [
    "### 순차법을 함수로 구현<br>Implementing Sequantial Method in a Function"
   ]
  },
  {
   "cell_type": "markdown",
   "metadata": {},
   "source": [
    "위 프로그램으로 10의 제곱근을 구할 수 있었다. 다른 함수의 근을 구하기에 더 편리한 형태로 바꾸면 더 좋을 것이다.<br>\n",
    "We could the sqare root of 10.  It would be even better modify so that we can easily find roots of other functions."
   ]
  },
  {
   "cell_type": "code",
   "execution_count": 17,
   "metadata": {
    "collapsed": false
   },
   "outputs": [
    {
     "name": "stdout",
     "output_type": "stream",
     "text": [
      "('counter =', 9160)\n",
      "('sqrt_5 =', 2.236083984375)\n",
      "('sqrt_5 ** 2 - 5 =', 7.1585178375244141e-05)\n"
     ]
    }
   ],
   "source": [
    "def sequential(f, x_init, x_interval, epsilon, x_final):\n",
    "    # result 의 초기값\n",
    "    # Initial value for sqrt_10\n",
    "    result = 'Not Found'\n",
    "\n",
    "    # 일련의 x_i 값을 미리 준비한다\n",
    "    # Prepare a series of x_i values in advance\n",
    "    x_array = py.arange(x_init, x_final+x_interval*0.5, x_interval)\n",
    "\n",
    "    # 몇번 반복했는지 측정해 보자\n",
    "    # Let's count the number of iterations\n",
    "    counter = 0\n",
    "\n",
    "    # x_i 에 관한 반복문\n",
    "    # x_i loop\n",
    "    #x 범위에 대해서 무한정 대입 \n",
    "    for x_i in x_array:\n",
    "        # Evaluate the function\n",
    "        y_i = f(x_i)\n",
    "        \n",
    "        counter += 1\n",
    "        # Check if absolute value is smaller than epsilon\n",
    "        if abs(y_i) < epsilon:\n",
    "            result = x_i\n",
    "            # found\n",
    "            break\n",
    "\n",
    "    # 반복 횟수\n",
    "    # Number of iterations\n",
    "    print('counter =', counter)\n",
    "\n",
    "    return result\n",
    "\n",
    "#sequential f에 대해서 지정\n",
    "def find_sqrt_5(x):\n",
    "    return (x ** 2) - 5\n",
    "\n",
    "\n",
    "# y_i 의 절대값이 이 값 보다 작으면 y_i = 0으로 본다\n",
    "# If absolute value of y_i is smaller than this, we would think y_i = 0.\n",
    "epsilon = 1e-3\n",
    "# 순차법의 매개변수\n",
    "# Parameters of the Sequantial Method\n",
    "# x_i 의 초기값\n",
    "# Initial value of x_i\n",
    "x_init = 0\n",
    "# x_i 의 마지막 값\n",
    "# Final value of x_i\n",
    "x_final = 4\n",
    "# i 번째 x 값과 i+1 번째 x 값 사이의 간격\n",
    "# The interval between i'th and (i+1)'th x's\n",
    "x_interval = 1.0 / (2**12)\n",
    "\n",
    "sqrt_5 = sequential(find_sqrt_5, x_init, x_interval, epsilon, x_final)\n",
    "\n",
    "# 순차법으로 찾은 5의 제곱근\n",
    "# Square root of 5 that we just found using the sequential method\n",
    "print('sqrt_5 =', sqrt_5)\n",
    "\n",
    "# 아래 연산의 결과는 0인가?\n",
    "# Is the result of the following calculation zero?\n",
    "print('sqrt_5 ** 2 - 5 =', find_sqrt_5(sqrt_5))"
   ]
  },
  {
   "cell_type": "markdown",
   "metadata": {},
   "source": [
    "도전 과제 : $sin^2(\\theta)=0.5$ 인 $\\theta$(도)를 구해 보시오.<br>Try this: Find $\\theta$(degree) satisfying $sin^2(\\theta)=0.5$."
   ]
  },
  {
   "cell_type": "code",
   "execution_count": 22,
   "metadata": {
    "collapsed": false
   },
   "outputs": [],
   "source": [
    "import pylab as py\n",
    "epsilon = 1e-3\n",
    "theta_deg_array = py.arange(0, 360 + 0.5, 1)\n",
    "theta_rad_array = py.deg2rad(theta_deg_array)\n",
    "\n",
    "sin_theta_array = py.sin(theta_rad_array) - 0.5 ** 0.5\n",
    "\n",
    "py.plot(theta_deg_array, sin_theta_array)\n",
    "py.plot(theta_deg_array, epsilon * py.ones_like(theta_deg_array), 'r-.', label='$+\\epsilon$')\n",
    "py.plot(theta_deg_array, -epsilon * py.ones_like(theta_deg_array), 'r--', label='$-\\epsilon$')\n",
    "py.xlabel('x')\n",
    "py.ylabel('y')\n",
    "\n",
    "py.grid()\n",
    "#이걸 해야 그래프가 보여\n",
    "py.show()"
   ]
  },
  {
   "cell_type": "code",
   "execution_count": 31,
   "metadata": {
    "collapsed": false
   },
   "outputs": [
    {
     "name": "stdout",
     "output_type": "stream",
     "text": [
      "('counter =', 20150)\n",
      "('theta =', 44.919189453125007)\n",
      "('r$\\\\sin(theta)$ =', -0.00099801353305173368)\n"
     ]
    }
   ],
   "source": [
    "def sequential(f, x_init, x_interval, epsilon, x_final):\n",
    "    # result 의 초기값\n",
    "    # Initial value for sqrt_10\n",
    "    result = 'Not Found'\n",
    "\n",
    "    # 일련의 x_i 값을 미리 준비한다\n",
    "    # Prepare a series of x_i values in advance\n",
    "    theta_deg_array = py.arange(x_init, x_final+x_interval*0.5, x_interval)\n",
    "    x_array = py.deg2rad(theta_deg_array)\n",
    "\n",
    "    # 몇번 반복했는지 측정해 보자\n",
    "    # Let's count the number of iterations\n",
    "    counter = 0\n",
    "\n",
    "    # x_i 에 관한 반복문\n",
    "    # x_i loop\n",
    "    #x 범위에 대해서 무한정 대입 \n",
    "    for x_i in x_array:\n",
    "        # Evaluate the function\n",
    "        y_i = fe(x_i)\n",
    "        \n",
    "        counter += 1\n",
    "        # Check if absolute value is smaller than epsilon\n",
    "        if abs(y_i) < epsilon:\n",
    "            result = x_i\n",
    "            # found\n",
    "            break\n",
    "\n",
    "    # 반복 횟수\n",
    "    # Number of iterations\n",
    "    print('counter =', counter)\n",
    "\n",
    "    return result\n",
    "\n",
    "#sequential f에 대해서 지정\n",
    "def fe(x):\n",
    "    return py.sin(x) - 0.5 ** 0.5 \n",
    "\n",
    "\n",
    "# y_i 의 절대값이 이 값 보다 작으면 y_i = 0으로 본다\n",
    "# If absolute value of y_i is smaller than this, we would think y_i = 0.\n",
    "epsilon = 1e-3\n",
    "# 순차법의 매개변수\n",
    "# Parameters of the Sequantial Method\n",
    "# x_i 의 초기값\n",
    "# Initial value of x_i\n",
    "x_init = 40\n",
    "# x_i 의 마지막 값\n",
    "# Final value of x_i\n",
    "x_final = 50\n",
    "# i 번째 x 값과 i+1 번째 x 값 사이의 간격\n",
    "# The interval between i'th and (i+1)'th x's\n",
    "x_interval = 1.0 / (2**12)\n",
    "\n",
    "theta = sequential(fe, x_init, x_interval, epsilon, x_final)\n",
    "\n",
    "\n",
    "# Square root of 5 that we just found using the sequential method\n",
    "print('theta =', py.rad2deg(theta))\n",
    "\n",
    "#py.rad2deg() 는 라디안을 각도로\n",
    "# 아래 연산의 결과는 0인가?\n",
    "# Is the result of the following calculation zero?\n",
    "print('r$\\sin(theta)$ =', fe(theta))"
   ]
  },
  {
   "cell_type": "code",
   "execution_count": 29,
   "metadata": {
    "collapsed": false
   },
   "outputs": [
    {
     "name": "stdout",
     "output_type": "stream",
     "text": [
      "3.14159265359\n",
      "180.0\n"
     ]
    }
   ],
   "source": [
    "d = py.deg2rad(180)\n",
    "print(d)\n",
    "e = py.rad2deg(3.14159265359)\n",
    "print(e)"
   ]
  },
  {
   "cell_type": "code",
   "execution_count": null,
   "metadata": {
    "collapsed": true
   },
   "outputs": [],
   "source": []
  }
 ],
 "metadata": {
  "kernelspec": {
   "display_name": "Python [Root]",
   "language": "python",
   "name": "Python [Root]"
  },
  "language_info": {
   "codemirror_mode": {
    "name": "ipython",
    "version": 2
   },
   "file_extension": ".py",
   "mimetype": "text/x-python",
   "name": "python",
   "nbconvert_exporter": "python",
   "pygments_lexer": "ipython2",
   "version": "2.7.12"
  }
 },
 "nbformat": 4,
 "nbformat_minor": 2
}
